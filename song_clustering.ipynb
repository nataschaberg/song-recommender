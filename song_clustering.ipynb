{
 "cells": [
  {
   "cell_type": "code",
   "execution_count": null,
   "id": "06843fa7",
   "metadata": {},
   "outputs": [],
   "source": [
    "import pandas as pd\n",
    "import numpy as np\n",
    "import matplotlib.pyplot as plt\n",
    "from sklearn.decomposition import PCA\n",
    "from sklearn.preprocessing import MinMaxScaler\n",
    "from sklearn.cluster import KMeans\n",
    "from sklearn.metrics import silhouette_score\n",
    "\n",
    "import seaborn as sns"
   ]
  },
  {
   "cell_type": "code",
   "execution_count": null,
   "id": "b981da5a",
   "metadata": {},
   "outputs": [],
   "source": [
    "tracks = pd.read_csv('tracks_enriched.csv')\n",
    "playlists = pd.read_csv('playlists-collections.csv')"
   ]
  },
  {
   "cell_type": "code",
   "execution_count": null,
   "id": "c9fdb682",
   "metadata": {},
   "outputs": [],
   "source": [
    "tracks.head(1)"
   ]
  },
  {
   "cell_type": "code",
   "execution_count": null,
   "id": "18ab5274",
   "metadata": {},
   "outputs": [],
   "source": [
    "tracks['category_name'] = 0"
   ]
  },
  {
   "cell_type": "code",
   "execution_count": null,
   "id": "fce054e9",
   "metadata": {},
   "outputs": [],
   "source": [
    "for i, row in playlists.iterrows():\n",
    "    tracks.loc[tracks['playlist_id'] == row['playlist_id'], 'category_name'] = row['category_name']"
   ]
  },
  {
   "cell_type": "code",
   "execution_count": null,
   "id": "dabf4a51",
   "metadata": {},
   "outputs": [],
   "source": [
    "tracks.head(2)"
   ]
  },
  {
   "cell_type": "code",
   "execution_count": null,
   "id": "b25aa957",
   "metadata": {},
   "outputs": [],
   "source": [
    "X = tracks[['track_id', 'popularity', 'danceability', 'energy', 'loudness', 'speechiness','acousticness', \n",
    "            'instrumentalness', 'liveness', 'valence', 'tempo', 'category_name']]"
   ]
  },
  {
   "cell_type": "code",
   "execution_count": null,
   "id": "ce2f3dcb",
   "metadata": {},
   "outputs": [],
   "source": []
  },
  {
   "cell_type": "markdown",
   "id": "034cca59",
   "metadata": {},
   "source": [
    "## Apply PCA to look at data shape"
   ]
  },
  {
   "cell_type": "code",
   "execution_count": null,
   "id": "4a823b6e",
   "metadata": {},
   "outputs": [],
   "source": [
    "pca = PCA(2) \n",
    "scaler = MinMaxScaler()\n",
    "X_prepped = scaler.fit_transform(X.drop(columns=['category_name', 'track_id']))\n",
    "X_2D = pca.fit_transform(X_prepped)\n",
    "X_2D"
   ]
  },
  {
   "cell_type": "code",
   "execution_count": null,
   "id": "d0ac319b",
   "metadata": {},
   "outputs": [],
   "source": [
    "X_2D = pd.DataFrame(X_2D, columns=['A', 'B'])\n",
    "X_2D['category_name'] = tracks['category_name']"
   ]
  },
  {
   "cell_type": "code",
   "execution_count": null,
   "id": "f71a8d86",
   "metadata": {},
   "outputs": [],
   "source": [
    "X_2D.head(3)"
   ]
  },
  {
   "cell_type": "markdown",
   "id": "52f756a2",
   "metadata": {},
   "source": [
    "#### Plot tracks with selected categories from original playlist"
   ]
  },
  {
   "cell_type": "code",
   "execution_count": null,
   "id": "4d0a3dd1",
   "metadata": {},
   "outputs": [],
   "source": [
    "X_2D['category_name'].unique()"
   ]
  },
  {
   "cell_type": "code",
   "execution_count": null,
   "id": "9e2119c7",
   "metadata": {},
   "outputs": [],
   "source": [
    "subset_X_2D = X_2D[X_2D['category_name'].isin(['Hip-Hop', 'Rock', 'R&B', 'Romance', 'Jazz', 'Reggae'])]\n",
    "subset_X_2D.shape"
   ]
  },
  {
   "cell_type": "code",
   "execution_count": null,
   "id": "5d69ce93",
   "metadata": {},
   "outputs": [],
   "source": [
    "sns.lmplot(x='A', y='B', data=subset_X_2D, hue='category_name', fit_reg=False)"
   ]
  },
  {
   "cell_type": "markdown",
   "id": "ae142c35",
   "metadata": {},
   "source": [
    "### Apply KMeans Clustering"
   ]
  },
  {
   "cell_type": "code",
   "execution_count": null,
   "id": "b639e7ce",
   "metadata": {},
   "outputs": [],
   "source": [
    "K = range(5, 30)\n",
    "\n",
    "inertia = []\n",
    "silhouette = []\n",
    "predictions = []\n",
    "for k in K:\n",
    "    kmeans = KMeans(n_clusters=k, random_state=13)\n",
    "    kmeans.fit(X_prepped)\n",
    "    pred = kmeans.predict(X_prepped)\n",
    "    inertia.append(kmeans.inertia_)\n",
    "    silhouette.append(silhouette_score(X_prepped, pred))\n",
    "    predictions.append(pred)"
   ]
  },
  {
   "cell_type": "code",
   "execution_count": null,
   "id": "ed7b52e1",
   "metadata": {},
   "outputs": [],
   "source": [
    "fig, ax = plt.subplots(1, 2, figsize=(15, 5))\n",
    "\n",
    "ax[0].plot(K, inertia, 'bx-')\n",
    "ax[0].set_xlabel('k')\n",
    "ax[0].set_ylabel('inertia')\n",
    "ax[0].set_xticks(np.arange(min(K), max(K)+1, 1.0))\n",
    "\n",
    "ax[1].plot(K, silhouette, 'bx-')\n",
    "ax[1].set_xlabel('k')\n",
    "ax[1].set_ylabel('silhouette score')\n",
    "ax[1].set_xticks(np.arange(min(K), max(K)+1, 1.0))\n",
    "\n",
    "plt.show()"
   ]
  },
  {
   "cell_type": "code",
   "execution_count": null,
   "id": "31f6766c",
   "metadata": {},
   "outputs": [],
   "source": []
  }
 ],
 "metadata": {
  "kernelspec": {
   "display_name": "Python 3 (ipykernel)",
   "language": "python",
   "name": "python3"
  },
  "language_info": {
   "codemirror_mode": {
    "name": "ipython",
    "version": 3
   },
   "file_extension": ".py",
   "mimetype": "text/x-python",
   "name": "python",
   "nbconvert_exporter": "python",
   "pygments_lexer": "ipython3",
   "version": "3.9.12"
  }
 },
 "nbformat": 4,
 "nbformat_minor": 5
}
