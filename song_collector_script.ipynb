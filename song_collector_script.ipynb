{
 "cells": [
  {
   "cell_type": "code",
   "execution_count": null,
   "id": "662c5beb",
   "metadata": {},
   "outputs": [],
   "source": [
    "import pandas as pd\n",
    "import spotipy\n",
    "from spotipy.oauth2 import SpotifyClientCredentials\n",
    "import time"
   ]
  },
  {
   "cell_type": "code",
   "execution_count": null,
   "id": "af719858",
   "metadata": {},
   "outputs": [],
   "source": [
    "SPOTIPY_CLIENT_ID=''\n",
    "SPOTIPY_CLIENT_SECRET=''"
   ]
  },
  {
   "cell_type": "code",
   "execution_count": null,
   "id": "86a14a87",
   "metadata": {},
   "outputs": [],
   "source": [
    "auth_manager = SpotifyClientCredentials(client_id=SPOTIPY_CLIENT_ID, client_secret=SPOTIPY_CLIENT_SECRET)\n",
    "sp = spotipy.Spotify(auth_manager=auth_manager)"
   ]
  },
  {
   "cell_type": "markdown",
   "id": "f2a765fc",
   "metadata": {},
   "source": [
    "### Get all available categories for playlists"
   ]
  },
  {
   "cell_type": "code",
   "execution_count": null,
   "id": "ec598962",
   "metadata": {},
   "outputs": [],
   "source": [
    "def get_categories():\n",
    "    res = sp.categories(limit=50)\n",
    "    categories = res['categories']['items']\n",
    "    df = pd.DataFrame([], columns=['id', 'name'])\n",
    "    cats = []\n",
    "    for c in categories:\n",
    "        if c['id'] not in ['0JQ5DAqbMKFF1br7dZcRtK', 'funk', 'word']:\n",
    "            cats.append({c['id'] : c['name']})\n",
    "\n",
    "    return cats\n",
    "\n",
    "categories = get_categories()"
   ]
  },
  {
   "cell_type": "markdown",
   "id": "db4c3f15",
   "metadata": {},
   "source": [
    "### Get playlists for collected categories"
   ]
  },
  {
   "cell_type": "code",
   "execution_count": null,
   "id": "acec0930",
   "metadata": {},
   "outputs": [],
   "source": [
    "def get_playlists_by_category(category_id, offset=0):\n",
    "    res = sp.category_playlists(category_id=category_id, country=None, limit=50, offset=offset)\n",
    "    pl = res['playlists']['items']\n",
    "    return pl\n",
    "\n",
    "\n",
    "def create_playlists_collection(cat_list):\n",
    "    df = pd.DataFrame([], columns=['category_id', 'category_name', 'playlist_id', 'name', \n",
    "                                   'description', 'owner_display_name', 'owner_id', 'total_tracks'])\n",
    "    for c in cat_list:\n",
    "        cat = list(c.items())[0]\n",
    "        for i in range(0, 150, 50):\n",
    "            pls = get_playlists_by_category(cat[0], i)\n",
    "            time.sleep(3)\n",
    "            for pl in pls: \n",
    "                try:                      \n",
    "                    df.at[df.shape[0]] = [cat[0], cat[1], pl['id'], pl['name'], pl['description'], \n",
    "                                          pl['owner']['display_name'], pl['owner']['id'], pl['tracks']['total']]  \n",
    "                except:\n",
    "                    pass\n",
    "    return df\n",
    "        \n",
    "playlists_collection = create_playlists_collection(categories)"
   ]
  },
  {
   "cell_type": "code",
   "execution_count": null,
   "id": "e1b5b144",
   "metadata": {
    "scrolled": true
   },
   "outputs": [],
   "source": [
    "playlists_collection.to_csv('playlists-collections.csv', index=False);"
   ]
  },
  {
   "cell_type": "markdown",
   "id": "8e9b7fac",
   "metadata": {},
   "source": [
    "### Get tracks from collected playlists"
   ]
  },
  {
   "cell_type": "code",
   "execution_count": null,
   "id": "4c2a4b48",
   "metadata": {},
   "outputs": [],
   "source": [
    "tracks = pd.DataFrame([], columns=['playlist_id', 'track_id', 'name', 'artists', 'popularity', 'duration_ms'])"
   ]
  },
  {
   "cell_type": "code",
   "execution_count": null,
   "id": "18eeb3f4",
   "metadata": {},
   "outputs": [],
   "source": [
    "def get_playlist(playlist_id):\n",
    "    return sp.playlist(playlist_id)\n",
    "\n",
    "def get_artists_name(artists_list):\n",
    "    return ', '.join([artist['name'] for artist in artists_list])\n",
    "    \n",
    "def create_tracks_collection(df, playlists):\n",
    "    for pl_id in playlists:\n",
    "        pl = get_playlist(pl_id)\n",
    "        for item in pl['tracks']['items']:\n",
    "            try:\n",
    "                df.at[df.shape[0]] = [pl_id, item['track']['id'],item['track']['name'], \n",
    "                                      get_artists_name(item['track']['artists']),\n",
    "                                      item['track']['popularity'],item['track']['duration_ms']]\n",
    "            except:\n",
    "                pass\n",
    "        time.sleep(2)"
   ]
  },
  {
   "cell_type": "code",
   "execution_count": null,
   "id": "1531ce25",
   "metadata": {},
   "outputs": [],
   "source": [
    "create_tracks_collection(tracks, playlists_collection['playlist_id'][1000:1500])"
   ]
  },
  {
   "cell_type": "code",
   "execution_count": null,
   "id": "8c5aa718",
   "metadata": {},
   "outputs": [],
   "source": [
    "tracks.to_csv('tracks.csv', index=False) # collected index 0 - 1500"
   ]
  },
  {
   "cell_type": "markdown",
   "id": "a14194e3",
   "metadata": {},
   "source": [
    "### Clean tracks from double entries"
   ]
  },
  {
   "cell_type": "code",
   "execution_count": null,
   "id": "a0808d70",
   "metadata": {},
   "outputs": [],
   "source": [
    "def clean_tracks_list(tracks):\n",
    "    t = tracks.copy()\n",
    "    for track in t['track_id'].unique():\n",
    "        subset = t.query('track_id == @track')\n",
    "        if len(subset.index) > 1:\n",
    "            t.drop(index=subset.index[1:], inplace=True)\n",
    "    return t\n",
    "\n",
    "tracks_clean = clean_tracks_list(tracks)"
   ]
  },
  {
   "cell_type": "markdown",
   "id": "a1f29645",
   "metadata": {},
   "source": [
    "### Get audio features for all tracks"
   ]
  },
  {
   "cell_type": "code",
   "execution_count": null,
   "id": "5558f555",
   "metadata": {},
   "outputs": [],
   "source": [
    "def get_audio_features(tracks):\n",
    "    t = tracks.copy()\n",
    "    t['danceability'] = 0\n",
    "    t['energy'] = 0\n",
    "    t['loudness'] = 0\n",
    "    t['speechiness'] = 0\n",
    "    t['acousticness'] = 0\n",
    "    t['instrumentalness'] = 0\n",
    "    t['liveness'] = 0\n",
    "    t['valence'] = 0\n",
    "    t['tempo'] = 0\n",
    "    t['key'] = 0\n",
    "    t['mode'] = 0\n",
    "    t['time_signature'] = 0\n",
    "    \n",
    "    for i in range(0, t.shape[0]+100, 100):\n",
    "        if i > t.shape[0]:\n",
    "            pass\n",
    "        else:\n",
    "            try:\n",
    "                res = sp.audio_features(t['track_id'][i:i+100])\n",
    "                for item in res:\n",
    "                    t.loc[t['track_id'] == item['id'], 'danceability'] = item['danceability']\n",
    "                    t.loc[t['track_id'] == item['id'], 'energy'] = item['energy']\n",
    "                    t.loc[t['track_id'] == item['id'], 'loudness'] = item['loudness']\n",
    "                    t.loc[t['track_id'] == item['id'], 'speechiness'] = item['speechiness']\n",
    "                    t.loc[t['track_id'] == item['id'], 'acousticness'] = item['acousticness']\n",
    "                    t.loc[t['track_id'] == item['id'], 'instrumentalness'] = item['instrumentalness']\n",
    "                    t.loc[t['track_id'] == item['id'], 'liveness'] = item['liveness']\n",
    "                    t.loc[t['track_id'] == item['id'], 'valence'] = item['valence']\n",
    "                    t.loc[t['track_id'] == item['id'], 'tempo'] = item['tempo']\n",
    "                    t.loc[t['track_id'] == item['id'], 'key'] = item['key']\n",
    "                    t.loc[t['track_id'] == item['id'], 'mode'] = item['mode']\n",
    "                    t.loc[t['track_id'] == item['id'], 'time_signature'] = item['time_signature']\n",
    "\n",
    "                time.sleep(2)\n",
    "            except:\n",
    "                pass\n",
    "    return t\n",
    "\n",
    "tracks_enriched = get_audio_features(tracks_clean)"
   ]
  },
  {
   "cell_type": "code",
   "execution_count": null,
   "id": "8c180560",
   "metadata": {},
   "outputs": [],
   "source": [
    "tracks_enriched.to_csv('tracks_enriched.csv', index=False);"
   ]
  }
 ],
 "metadata": {
  "kernelspec": {
   "display_name": "Python 3 (ipykernel)",
   "language": "python",
   "name": "python3"
  },
  "language_info": {
   "codemirror_mode": {
    "name": "ipython",
    "version": 3
   },
   "file_extension": ".py",
   "mimetype": "text/x-python",
   "name": "python",
   "nbconvert_exporter": "python",
   "pygments_lexer": "ipython3",
   "version": "3.9.12"
  }
 },
 "nbformat": 4,
 "nbformat_minor": 5
}
